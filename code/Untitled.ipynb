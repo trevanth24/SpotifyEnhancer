{
 "cells": [
  {
   "cell_type": "code",
   "execution_count": 1,
   "metadata": {},
   "outputs": [],
   "source": [
    "import numpy as np\n",
    "import pandas as pd\n",
    "from sklearn.cluster import KMeans, DBSCAN\n",
    "from sklearn.decomposition import PCA\n",
    "from sklearn.manifold import TSNE\n"
   ]
  },
  {
   "cell_type": "code",
   "execution_count": 4,
   "metadata": {},
   "outputs": [
    {
     "name": "stdout",
     "output_type": "stream",
     "text": [
      "                                                 artists  acousticness  \\\n",
      "0                       \"Cats\" 1981 Original London Cast      0.575083   \n",
      "1                              \"Cats\" 1983 Broadway Cast      0.862538   \n",
      "2            \"Fiddler On The Roof” Motion Picture Chorus      0.856571   \n",
      "3         \"Fiddler On The Roof” Motion Picture Orchestra      0.884926   \n",
      "4      \"Joseph And The Amazing Technicolor Dreamcoat\"...      0.605444   \n",
      "...                                                  ...           ...   \n",
      "27616                                                鳳飛飛      0.884000   \n",
      "27617                                                黃品源      0.541000   \n",
      "27618                                                黃國隆      0.785455   \n",
      "27619                                                黃蜀娟      0.925143   \n",
      "27620                                                 黑豹      0.381000   \n",
      "\n",
      "       danceability    duration_ms    energy  instrumentalness  liveness  \\\n",
      "0          0.442750  247260.000000  0.386336          0.022717  0.287708   \n",
      "1          0.441731  287280.000000  0.406808          0.081158  0.315215   \n",
      "2          0.348286  328920.000000  0.286571          0.024593  0.325786   \n",
      "3          0.425074  262890.962963  0.245770          0.073587  0.275481   \n",
      "4          0.437333  232428.111111  0.429333          0.037534  0.216111   \n",
      "...             ...            ...       ...               ...       ...   \n",
      "27616      0.358000  259387.000000  0.208000          0.000002  0.150000   \n",
      "27617      0.578000  293840.000000  0.334000          0.000006  0.067500   \n",
      "27618      0.570818  174582.727273  0.148400          0.000083  0.142191   \n",
      "27619      0.322262  212989.857143  0.141490          0.000189  0.196757   \n",
      "27620      0.353000  316160.000000  0.686000          0.000000  0.056800   \n",
      "\n",
      "        loudness  speechiness       tempo   valence  popularity  key  mode  \\\n",
      "0     -14.205417     0.180675  115.983500  0.334433   38.000000    5     1   \n",
      "1     -10.690000     0.176212  103.044154  0.268865   33.076923    5     1   \n",
      "2     -15.230714     0.118514   77.375857  0.354857   34.285714    0     1   \n",
      "3     -15.639370     0.123200   88.667630  0.372030   34.444444    0     1   \n",
      "4     -11.447222     0.086000  120.329667  0.458667   42.555556   11     1   \n",
      "...          ...          ...         ...       ...         ...  ...   ...   \n",
      "27616  -9.524000     0.033900  131.261000  0.278000   35.000000   10     1   \n",
      "27617 -11.974000     0.026700  135.934000  0.243000   47.000000    9     0   \n",
      "27618 -21.610091     0.054355  119.586273  0.741273   20.000000    5     1   \n",
      "27619 -19.256714     0.055571  111.685381  0.267033   23.000000   10     1   \n",
      "27620  -9.103000     0.039500  200.341000  0.352000   34.000000   11     1   \n",
      "\n",
      "       count                                             genres  \n",
      "0         12                                     ['show tunes']  \n",
      "1         26                                                 []  \n",
      "2          7                                                 []  \n",
      "3         27                                                 []  \n",
      "4          9                                                 []  \n",
      "...      ...                                                ...  \n",
      "27616      2  ['c-pop', 'classic mandopop', 'vintage chinese...  \n",
      "27617      2  ['c-pop', 'classic cantopop', 'classic mandopop']  \n",
      "27618     11                                                 []  \n",
      "27619     42                                                 []  \n",
      "27620      2            ['chinese indie', 'chinese indie rock']  \n",
      "\n",
      "[27621 rows x 16 columns]\n"
     ]
    }
   ],
   "source": [
    "df_orig = pd.read_csv('data_w_genres.csv', sep = \",\", encoding='UTF-8')\n",
    "print(df_orig)"
   ]
  },
  {
   "cell_type": "code",
   "execution_count": null,
   "metadata": {},
   "outputs": [],
   "source": [
    "df_year_update = df_orig[df_orig['Season'].str.split('-').str[0].astype(int) < 2017]"
   ]
  },
  {
   "cell_type": "code",
   "execution_count": 9,
   "metadata": {},
   "outputs": [
    {
     "name": "stdout",
     "output_type": "stream",
     "text": [
      "                                 title        artist  genre  bpm  nrgy  dnce  \\\n",
      "0                         Stuck On You        Giveon    r&b  158    45    60   \n",
      "1                           Irrational      Shay Lia    r&b   98    70    76   \n",
      "2                                Treat   0.465972222    r&b   94    41    70   \n",
      "3                               Damage        H.E.R.    r&b   81    70    65   \n",
      "4        Cupid's Curse (feat. Kehlani)         Phora    r&b  111    40    69   \n",
      "..                                 ...           ...    ...  ...   ...   ...   \n",
      "981                The promethean fire     Loudblast  metal  130    97    46   \n",
      "982                 Winds Of Slaughter      Shrapnel  metal  187    96    31   \n",
      "983                   Der Jegermeister     Trollfest  metal  115    96    37   \n",
      "984    Necropolis (City of the Damned)       Subzero  metal  112    94    29   \n",
      "985  Marching On Versailles - Acoustic  Ad Infinitum  metal  102    66    65   \n",
      "\n",
      "     dB  live  val  dur  acous  spch  pop  \n",
      "0    -7    11   14  205     16     5   68  \n",
      "1    -6     6   50  169     62     9   56  \n",
      "2   -10    11   81  167     41     9   50  \n",
      "3    -7    12   18  223     11     7   73  \n",
      "4   -10    15   54  213     70     6   68  \n",
      "..   ..   ...  ...  ...    ...   ...  ...  \n",
      "981  -4    14   17  239      0    11   25  \n",
      "982  -5    36   51  284      0     8   24  \n",
      "983  -7    11   42  283      0     6   24  \n",
      "984  -5    11   34  171      0     6   23  \n",
      "985  -6     5   27  232      1     3   15  \n",
      "\n",
      "[986 rows x 13 columns]\n"
     ]
    }
   ],
   "source": [
    "df_orig = pd.read_csv('dataSongs.csv', sep = \",\", encoding='cp1252')\n",
    "print(df_orig)"
   ]
  },
  {
   "cell_type": "code",
   "execution_count": null,
   "metadata": {},
   "outputs": [],
   "source": []
  }
 ],
 "metadata": {
  "kernelspec": {
   "display_name": "Python 3",
   "language": "python",
   "name": "python3"
  },
  "language_info": {
   "codemirror_mode": {
    "name": "ipython",
    "version": 3
   },
   "file_extension": ".py",
   "mimetype": "text/x-python",
   "name": "python",
   "nbconvert_exporter": "python",
   "pygments_lexer": "ipython3",
   "version": "3.8.3"
  }
 },
 "nbformat": 4,
 "nbformat_minor": 4
}
